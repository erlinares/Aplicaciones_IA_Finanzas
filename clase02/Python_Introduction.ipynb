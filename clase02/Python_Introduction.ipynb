{
  "cells": [
    {
      "cell_type": "markdown",
      "metadata": {
        "id": "Bw7f2Er5QaC7"
      },
      "source": [
        "# Python Course Introduction"
      ]
    },
    {
      "cell_type": "markdown",
      "metadata": {
        "id": "t9GE57i5diKJ"
      },
      "source": [
        "- Name:\n",
        "- Course:\n",
        "- Date:"
      ]
    },
    {
      "cell_type": "markdown",
      "metadata": {
        "id": "em242_3bQj0R"
      },
      "source": [
        "## Basic Arithmetics"
      ]
    },
    {
      "cell_type": "code",
      "execution_count": 1,
      "metadata": {
        "colab": {
          "base_uri": "https://localhost:8080/"
        },
        "id": "PU6AnrlxQqwF",
        "outputId": "c118a468-4f91-4aeb-dae0-7b9258a0162e"
      },
      "outputs": [
        {
          "name": "stdout",
          "output_type": "stream",
          "text": [
            "5\n"
          ]
        }
      ],
      "source": [
        "# Addition\n",
        "print(2 + 3)"
      ]
    },
    {
      "cell_type": "code",
      "execution_count": 2,
      "metadata": {
        "colab": {
          "base_uri": "https://localhost:8080/"
        },
        "id": "_dbQoTwdQv56",
        "outputId": "2d340565-125e-4fe9-86b7-5891422b70f7"
      },
      "outputs": [
        {
          "name": "stdout",
          "output_type": "stream",
          "text": [
            "5\n"
          ]
        }
      ],
      "source": [
        "# Subtraction\n",
        "print(10 - 5)"
      ]
    },
    {
      "cell_type": "code",
      "execution_count": 3,
      "metadata": {
        "colab": {
          "base_uri": "https://localhost:8080/"
        },
        "id": "ILenVfwIQyq4",
        "outputId": "40b70c54-6553-44b3-8be0-69bf29693cbb"
      },
      "outputs": [
        {
          "name": "stdout",
          "output_type": "stream",
          "text": [
            "5.0\n"
          ]
        }
      ],
      "source": [
        "# Division\n",
        "print(10 / 2)"
      ]
    },
    {
      "cell_type": "code",
      "execution_count": 4,
      "metadata": {
        "colab": {
          "base_uri": "https://localhost:8080/"
        },
        "id": "EEGrXvI2Q2Qk",
        "outputId": "65050c73-1c02-4a0d-b003-398fcc3d4b62"
      },
      "outputs": [
        {
          "name": "stdout",
          "output_type": "stream",
          "text": [
            "12\n"
          ]
        }
      ],
      "source": [
        "# Multiplication\n",
        "print(4 * 3)"
      ]
    },
    {
      "cell_type": "code",
      "execution_count": 5,
      "metadata": {
        "colab": {
          "base_uri": "https://localhost:8080/"
        },
        "id": "CeLdOthBQ43j",
        "outputId": "d06619d4-c9b1-4425-e745-76689f31ba8e"
      },
      "outputs": [
        {
          "name": "stdout",
          "output_type": "stream",
          "text": [
            "8\n"
          ]
        }
      ],
      "source": [
        "# Exponential\n",
        "print(2 ** 3)"
      ]
    },
    {
      "cell_type": "code",
      "execution_count": 6,
      "metadata": {
        "colab": {
          "base_uri": "https://localhost:8080/"
        },
        "id": "C4k7HTt9Q7hw",
        "outputId": "9c44f037-ecad-40f4-a776-25d086d0d1d7"
      },
      "outputs": [
        {
          "name": "stdout",
          "output_type": "stream",
          "text": [
            "1\n"
          ]
        }
      ],
      "source": [
        "# Module\n",
        "print(10 % 3)"
      ]
    },
    {
      "cell_type": "markdown",
      "metadata": {
        "id": "1qPQkee7RJCf"
      },
      "source": [
        "## Variables"
      ]
    },
    {
      "cell_type": "code",
      "execution_count": 8,
      "metadata": {
        "colab": {
          "base_uri": "https://localhost:8080/"
        },
        "id": "68YJxxI8RMUF",
        "outputId": "83252cec-7ce3-478f-9ab5-bb36e9d21ee6"
      },
      "outputs": [
        {
          "name": "stdout",
          "output_type": "stream",
          "text": [
            "APPLE\n"
          ]
        }
      ],
      "source": [
        "# Assign and display a variable\n",
        "stock = \"APPLE\"\n",
        "print(stock)"
      ]
    },
    {
      "cell_type": "markdown",
      "metadata": {
        "id": "I6m84rNSRW6_"
      },
      "source": [
        "## Code Formatting"
      ]
    },
    {
      "cell_type": "code",
      "execution_count": 9,
      "metadata": {
        "colab": {
          "base_uri": "https://localhost:8080/"
        },
        "id": "NJ2FGh9KRMXz",
        "outputId": "18687e28-de7d-4613-cc3b-233a8680da87"
      },
      "outputs": [
        {
          "name": "stdout",
          "output_type": "stream",
          "text": [
            "Correct indentation\n",
            "No semicolons needed\n"
          ]
        }
      ],
      "source": [
        "# Indentation\n",
        "if True:\n",
        "    print(\"Correct indentation\")\n",
        "\n",
        "# Avoid using semicolons\n",
        "print(\"No semicolons needed\")"
      ]
    },
    {
      "cell_type": "markdown",
      "metadata": {
        "id": "uG5YoNgjRdDB"
      },
      "source": [
        "## Data Types"
      ]
    },
    {
      "cell_type": "code",
      "execution_count": 10,
      "metadata": {
        "colab": {
          "base_uri": "https://localhost:8080/"
        },
        "id": "oCdQkXZORMhm",
        "outputId": "8857f744-5e49-4266-f593-87f6111a878e"
      },
      "outputs": [
        {
          "name": "stdout",
          "output_type": "stream",
          "text": [
            "<class 'int'>\n"
          ]
        }
      ],
      "source": [
        "# Integers\n",
        "number = 5\n",
        "print(type(number))"
      ]
    },
    {
      "cell_type": "code",
      "execution_count": 11,
      "metadata": {
        "colab": {
          "base_uri": "https://localhost:8080/"
        },
        "id": "mEVmCm73RjOk",
        "outputId": "dde40e93-b7fe-4307-c085-e64c50ef35a5"
      },
      "outputs": [
        {
          "name": "stdout",
          "output_type": "stream",
          "text": [
            "<class 'float'>\n"
          ]
        }
      ],
      "source": [
        "# Floats\n",
        "pi = 3.14\n",
        "print(type(pi))"
      ]
    },
    {
      "cell_type": "code",
      "execution_count": 12,
      "metadata": {
        "colab": {
          "base_uri": "https://localhost:8080/"
        },
        "id": "J-YBDNlHRluf",
        "outputId": "666c52c7-a00c-44ff-ce39-0a4a0ed591e8"
      },
      "outputs": [
        {
          "name": "stdout",
          "output_type": "stream",
          "text": [
            "<class 'bool'>\n"
          ]
        }
      ],
      "source": [
        "# Booleans\n",
        "is_true = True\n",
        "print(type(is_true))"
      ]
    },
    {
      "cell_type": "code",
      "execution_count": 15,
      "metadata": {
        "colab": {
          "base_uri": "https://localhost:8080/"
        },
        "id": "GLH7we0aRoXe",
        "outputId": "2e7732c1-f1a4-4293-8388-146e999428c2"
      },
      "outputs": [
        {
          "name": "stdout",
          "output_type": "stream",
          "text": [
            "<class 'list'>\n"
          ]
        }
      ],
      "source": [
        "# Lists\n",
        "my_list = ['APPL', 'GOOG', 'AMZN', True, [], ()]\n",
        "print(type(my_list))"
      ]
    },
    {
      "cell_type": "code",
      "execution_count": 16,
      "metadata": {
        "colab": {
          "base_uri": "https://localhost:8080/"
        },
        "id": "zZVMnehRRz8_",
        "outputId": "935b3010-41e2-4609-c664-a8e9339135bb"
      },
      "outputs": [
        {
          "name": "stdout",
          "output_type": "stream",
          "text": [
            "<class 'tuple'>\n"
          ]
        }
      ],
      "source": [
        "# Tuples\n",
        "my_tuple = ('APPL', 'GOOG', 'AMZN')\n",
        "print(type(my_tuple))"
      ]
    },
    {
      "cell_type": "code",
      "execution_count": 17,
      "metadata": {
        "colab": {
          "base_uri": "https://localhost:8080/"
        },
        "id": "mo0YuHsCR5UD",
        "outputId": "83c74bbd-1be1-4eee-9f57-27d3397169a5"
      },
      "outputs": [
        {
          "name": "stdout",
          "output_type": "stream",
          "text": [
            "<class 'set'>\n"
          ]
        }
      ],
      "source": [
        "# Sets\n",
        "my_set = {'APPL', 'GOOG', 'AMZN'}\n",
        "print(type(my_set))"
      ]
    },
    {
      "cell_type": "code",
      "execution_count": 19,
      "metadata": {
        "colab": {
          "base_uri": "https://localhost:8080/"
        },
        "id": "qH6oWS8aSHWv",
        "outputId": "fa42457c-645e-410c-d810-18b203df4cc2"
      },
      "outputs": [
        {
          "name": "stdout",
          "output_type": "stream",
          "text": [
            "<class 'str'>\n"
          ]
        }
      ],
      "source": [
        "# Strings\n",
        "my_string = \"description\"\n",
        "print(type(my_string))\n"
      ]
    },
    {
      "cell_type": "code",
      "execution_count": 20,
      "metadata": {
        "colab": {
          "base_uri": "https://localhost:8080/"
        },
        "id": "-5hy6ZRRSxuD",
        "outputId": "ebd6f5be-f2ff-47c8-a351-2a5674fe8086"
      },
      "outputs": [
        {
          "name": "stdout",
          "output_type": "stream",
          "text": [
            "<class 'dict'>\n"
          ]
        }
      ],
      "source": [
        "# Dictionaries\n",
        "car = {\n",
        "    'Color': 'Red',\n",
        "    'Year': 2025,\n",
        "    'Features': ['automatic', 'abs', '5 doors']\n",
        "}\n",
        "print(type(car))"
      ]
    },
    {
      "cell_type": "markdown",
      "metadata": {
        "id": "V9qNwJwAS1D0"
      },
      "source": [
        "## Mutable & Immutable"
      ]
    },
    {
      "cell_type": "code",
      "execution_count": 21,
      "metadata": {
        "colab": {
          "base_uri": "https://localhost:8080/"
        },
        "id": "rE7h8JUxS3kE",
        "outputId": "34d0b042-8d3e-4362-c06f-1bbe6dc1fc90"
      },
      "outputs": [
        {
          "name": "stdout",
          "output_type": "stream",
          "text": [
            "['APPL', 'GOOG', 'AMZN', 'META']\n"
          ]
        }
      ],
      "source": [
        "# Mutable list\n",
        "stocks = ['APPL', 'GOOG', 'AMZN']\n",
        "stocks.append(\"META\")\n",
        "print(stocks)"
      ]
    },
    {
      "cell_type": "code",
      "execution_count": 23,
      "metadata": {
        "id": "32FtLM5mS8Q_"
      },
      "outputs": [],
      "source": [
        "# Immutable tuple\n",
        "list_stocks = ('APPL', 'GOOG', 'AMZN')\n",
        "#list_stocks.append(\"META\")  # This will throw an error"
      ]
    },
    {
      "cell_type": "markdown",
      "metadata": {
        "id": "IG5TbfmBTHtB"
      },
      "source": [
        "## Numbers"
      ]
    },
    {
      "cell_type": "code",
      "execution_count": 24,
      "metadata": {
        "colab": {
          "base_uri": "https://localhost:8080/"
        },
        "id": "uMyzuCEwTL3s",
        "outputId": "769abd07-cc0f-4f4e-ed18-c067655bd9d2"
      },
      "outputs": [
        {
          "name": "stdout",
          "output_type": "stream",
          "text": [
            "60\n",
            "<class 'int'>\n"
          ]
        }
      ],
      "source": [
        "# Integers\n",
        "years = 5\n",
        "months = 12\n",
        "months_per_year = years * months\n",
        "print(months_per_year)\n",
        "print(type(months_per_year))"
      ]
    },
    {
      "cell_type": "code",
      "execution_count": 26,
      "metadata": {
        "colab": {
          "base_uri": "https://localhost:8080/"
        },
        "id": "rsfaWiSdTPX8",
        "outputId": "1e080f49-5fae-4d00-aff0-3a2daaf4f6b1"
      },
      "outputs": [
        {
          "name": "stdout",
          "output_type": "stream",
          "text": [
            "3.14\n",
            "<class 'float'>\n"
          ]
        }
      ],
      "source": [
        "# Floats\n",
        "pi = 3.14\n",
        "print(pi)\n",
        "print(type(pi))"
      ]
    },
    {
      "cell_type": "markdown",
      "metadata": {
        "id": "ugu7GrTETaM0"
      },
      "source": [
        "## Strings"
      ]
    },
    {
      "cell_type": "code",
      "execution_count": 28,
      "metadata": {
        "colab": {
          "base_uri": "https://localhost:8080/"
        },
        "id": "s8GnptFOTcUj",
        "outputId": "c6b607c2-cd79-4679-d77d-97493d190c59"
      },
      "outputs": [
        {
          "name": "stdout",
          "output_type": "stream",
          "text": [
            "Welcome 2025\n",
            "<class 'str'>\n"
          ]
        }
      ],
      "source": [
        "message = \"Welcome 2025\"\n",
        "print(message)\n",
        "print(type(message))"
      ]
    },
    {
      "cell_type": "markdown",
      "metadata": {
        "id": "gv2UjT8jTiIv"
      },
      "source": [
        "## Lists"
      ]
    },
    {
      "cell_type": "code",
      "execution_count": 29,
      "metadata": {
        "colab": {
          "base_uri": "https://localhost:8080/"
        },
        "id": "9pDQZYPZTjv3",
        "outputId": "1d8b2f8f-529b-4294-aa2c-0d603f809664"
      },
      "outputs": [
        {
          "name": "stdout",
          "output_type": "stream",
          "text": [
            "APPL\n",
            "GOOG\n",
            "AMZN\n",
            "META\n"
          ]
        }
      ],
      "source": [
        "# Iterate through a list\n",
        "stocks = ['APPL', 'GOOG', 'AMZN', 'META']\n",
        "for item in stocks:\n",
        "    print(item)"
      ]
    },
    {
      "cell_type": "code",
      "execution_count": 30,
      "metadata": {
        "colab": {
          "base_uri": "https://localhost:8080/"
        },
        "id": "h-kZNybQTniQ",
        "outputId": "d5157119-42a6-4d0a-936b-d337befa2a94"
      },
      "outputs": [
        {
          "name": "stdout",
          "output_type": "stream",
          "text": [
            "car\n",
            "pencil\n",
            "blue\n",
            "yellow\n",
            "55\n"
          ]
        }
      ],
      "source": [
        "# Mixed objects in a list\n",
        "objects = ['car', 'pencil', 'blue', 'yellow', 55]\n",
        "for item in objects:\n",
        "    print(item)"
      ]
    },
    {
      "cell_type": "markdown",
      "metadata": {
        "id": "FVEMEHoZTr9q"
      },
      "source": [
        "## Indexing and Slicing\n"
      ]
    },
    {
      "cell_type": "code",
      "execution_count": 31,
      "metadata": {
        "colab": {
          "base_uri": "https://localhost:8080/"
        },
        "id": "m6IJWEptTts4",
        "outputId": "0ff1357d-4e25-46d6-d473-feccb67de9f8"
      },
      "outputs": [
        {
          "name": "stdout",
          "output_type": "stream",
          "text": [
            "W\n"
          ]
        }
      ],
      "source": [
        "# Strings\n",
        "message = \"Welcome 2025\"\n",
        "print(message[0])"
      ]
    },
    {
      "cell_type": "code",
      "execution_count": 32,
      "metadata": {
        "colab": {
          "base_uri": "https://localhost:8080/"
        },
        "id": "H9r34_UVTv9n",
        "outputId": "3d4464cc-3055-434a-a386-8c0a380a2cff"
      },
      "outputs": [
        {
          "name": "stdout",
          "output_type": "stream",
          "text": [
            "APPL\n",
            "META\n"
          ]
        }
      ],
      "source": [
        "# Lists\n",
        "stocks = ['APPL', 'GOOG', 'AMZN', 'META']\n",
        "print(stocks[0])\n",
        "print(stocks[-1])"
      ]
    },
    {
      "cell_type": "code",
      "execution_count": 33,
      "metadata": {
        "colab": {
          "base_uri": "https://localhost:8080/"
        },
        "id": "19apCxN6TwA7",
        "outputId": "47011292-a459-4d09-dc36-2fc8503129b9"
      },
      "outputs": [
        {
          "name": "stdout",
          "output_type": "stream",
          "text": [
            "Welco\n"
          ]
        }
      ],
      "source": [
        "# String slicing\n",
        "print(message[0:5])"
      ]
    },
    {
      "cell_type": "code",
      "execution_count": 34,
      "metadata": {
        "colab": {
          "base_uri": "https://localhost:8080/"
        },
        "id": "0tHGOL15T1IM",
        "outputId": "9f44cb01-9224-431e-a939-8d817c4dde61"
      },
      "outputs": [
        {
          "name": "stdout",
          "output_type": "stream",
          "text": [
            "['GOOG', 'AMZN']\n"
          ]
        }
      ],
      "source": [
        "# List slicing\n",
        "print(stocks[1:3])"
      ]
    },
    {
      "cell_type": "markdown",
      "metadata": {
        "id": "g1X1WdxPT4Mm"
      },
      "source": [
        "## Strings Properties & Methods"
      ]
    },
    {
      "cell_type": "code",
      "execution_count": 35,
      "metadata": {
        "colab": {
          "base_uri": "https://localhost:8080/"
        },
        "id": "u9WAR3QvUBlo",
        "outputId": "e80916e3-be44-4265-ce26-7bce3c5bce57"
      },
      "outputs": [
        {
          "name": "stdout",
          "output_type": "stream",
          "text": [
            "ALFRED\n"
          ]
        }
      ],
      "source": [
        "name = \"Alfred\"\n",
        "print(name.upper())\n"
      ]
    },
    {
      "cell_type": "code",
      "execution_count": 36,
      "metadata": {
        "colab": {
          "base_uri": "https://localhost:8080/"
        },
        "id": "dgjDB9wAUGyZ",
        "outputId": "5ffb6a3d-e47f-45f8-b56d-907572cac2a7"
      },
      "outputs": [
        {
          "name": "stdout",
          "output_type": "stream",
          "text": [
            "6\n"
          ]
        }
      ],
      "source": [
        "print(len(name))\n"
      ]
    },
    {
      "cell_type": "code",
      "execution_count": 37,
      "metadata": {
        "colab": {
          "base_uri": "https://localhost:8080/"
        },
        "id": "ezJk_a7vUINb",
        "outputId": "9e13945c-7b13-43fe-8f49-4e83727a4e2d"
      },
      "outputs": [
        {
          "name": "stdout",
          "output_type": "stream",
          "text": [
            "True\n"
          ]
        }
      ],
      "source": [
        "print(name.endswith(\"d\"))\n"
      ]
    },
    {
      "cell_type": "code",
      "execution_count": 38,
      "metadata": {
        "colab": {
          "base_uri": "https://localhost:8080/"
        },
        "id": "hFuSyMM2UJz1",
        "outputId": "d005254c-70d9-40e8-e051-c93920058567"
      },
      "outputs": [
        {
          "name": "stdout",
          "output_type": "stream",
          "text": [
            "0\n"
          ]
        }
      ],
      "source": [
        "print(name.count(\"z\"))\n"
      ]
    },
    {
      "cell_type": "code",
      "execution_count": 41,
      "metadata": {
        "colab": {
          "base_uri": "https://localhost:8080/"
        },
        "id": "dPT7WHaxUME-",
        "outputId": "610b6b53-aa01-41f1-90f8-1dbade2b4398"
      },
      "outputs": [
        {
          "name": "stdout",
          "output_type": "stream",
          "text": [
            "ALFRED\n"
          ]
        }
      ],
      "source": [
        "print(name.upper())\n"
      ]
    },
    {
      "cell_type": "code",
      "execution_count": 42,
      "metadata": {
        "colab": {
          "base_uri": "https://localhost:8080/"
        },
        "id": "w2kcoGllUNv6",
        "outputId": "1d5d913e-7acc-4f98-9826-9ec52e9b0f8f"
      },
      "outputs": [
        {
          "name": "stdout",
          "output_type": "stream",
          "text": [
            "aLFRED\n"
          ]
        }
      ],
      "source": [
        "print(name.swapcase())"
      ]
    },
    {
      "cell_type": "markdown",
      "metadata": {
        "id": "8dc0idldUVtB"
      },
      "source": [
        "## Print Formatting"
      ]
    },
    {
      "cell_type": "code",
      "execution_count": 43,
      "metadata": {
        "colab": {
          "base_uri": "https://localhost:8080/"
        },
        "id": "2e5og9RTUYuT",
        "outputId": "0d3fd137-c077-4a41-ea1f-c714497d7906"
      },
      "outputs": [
        {
          "name": "stdout",
          "output_type": "stream",
          "text": [
            "My message is Welcome 2025\n"
          ]
        }
      ],
      "source": [
        "message = \"Welcome 2025\"\n",
        "print(\"My message is {}\".format(message))"
      ]
    },
    {
      "cell_type": "markdown",
      "metadata": {
        "id": "kXJ8kAcvUbsP"
      },
      "source": [
        "## Lists"
      ]
    },
    {
      "cell_type": "code",
      "execution_count": 44,
      "metadata": {
        "colab": {
          "base_uri": "https://localhost:8080/"
        },
        "id": "vRRy2LjsUhTF",
        "outputId": "d2c908eb-5790-49e1-a836-9d35f731c550"
      },
      "outputs": [
        {
          "name": "stdout",
          "output_type": "stream",
          "text": [
            "['META', 'AMZN', 'GOOG', 'APPL']\n"
          ]
        }
      ],
      "source": [
        "stocks = ['APPL', 'GOOG', 'AMZN', 'META']\n",
        "stocks.reverse()\n",
        "print(stocks)"
      ]
    },
    {
      "cell_type": "code",
      "execution_count": 45,
      "metadata": {
        "colab": {
          "base_uri": "https://localhost:8080/"
        },
        "id": "RLJPKiMKUmjI",
        "outputId": "e6ef3318-5415-4757-fee9-1a75fd3481fe"
      },
      "outputs": [
        {
          "name": "stdout",
          "output_type": "stream",
          "text": [
            "['META', 'AMZN', 'GOOG', 'APPL', 'TSLA']\n"
          ]
        }
      ],
      "source": [
        "stocks.append(\"TSLA\")\n",
        "print(stocks)\n"
      ]
    },
    {
      "cell_type": "code",
      "execution_count": 46,
      "metadata": {
        "colab": {
          "base_uri": "https://localhost:8080/"
        },
        "id": "SwdRklvNUo0e",
        "outputId": "8e913469-12b9-4a1c-b8dc-34faa1a4d954"
      },
      "outputs": [
        {
          "name": "stdout",
          "output_type": "stream",
          "text": [
            "['META', 'AMZN', 'GOOG', 'APPL']\n"
          ]
        }
      ],
      "source": [
        "stocks.remove(\"TSLA\")\n",
        "print(stocks)"
      ]
    },
    {
      "cell_type": "markdown",
      "metadata": {
        "id": "OBjG-KneUqcs"
      },
      "source": [
        "## Dictionaries"
      ]
    },
    {
      "cell_type": "code",
      "execution_count": 47,
      "metadata": {
        "colab": {
          "base_uri": "https://localhost:8080/"
        },
        "id": "NekG5fszUvPp",
        "outputId": "1a21a3af-c2c9-4183-bd67-1e455431ea81"
      },
      "outputs": [
        {
          "name": "stdout",
          "output_type": "stream",
          "text": [
            "{'name': 'John', 'lastname': 'Smith', 'age': 30, 'city': 'Texas'}\n"
          ]
        }
      ],
      "source": [
        "person = {\n",
        "    'name': 'John',\n",
        "    'lastname': 'Smith',\n",
        "    'age': 30,\n",
        "    'city': 'Texas'\n",
        "}\n",
        "\n",
        "print(person)"
      ]
    },
    {
      "cell_type": "code",
      "execution_count": 48,
      "metadata": {
        "colab": {
          "base_uri": "https://localhost:8080/"
        },
        "id": "LDUXpj-TUyZE",
        "outputId": "361e1686-5aba-4aa4-bd0a-1a136533eb6c"
      },
      "outputs": [
        {
          "name": "stdout",
          "output_type": "stream",
          "text": [
            "John\n"
          ]
        }
      ],
      "source": [
        "print(person['name'])"
      ]
    },
    {
      "cell_type": "code",
      "execution_count": 49,
      "metadata": {
        "colab": {
          "base_uri": "https://localhost:8080/"
        },
        "id": "medGaSE9U1Kp",
        "outputId": "16ae4160-37ea-44ce-cc59-d94d24396ec1"
      },
      "outputs": [
        {
          "name": "stdout",
          "output_type": "stream",
          "text": [
            "{'name': 'John', 'lastname': 'Smith', 'age': 30}\n"
          ]
        }
      ],
      "source": [
        "del person['city']\n",
        "print(person)"
      ]
    },
    {
      "cell_type": "code",
      "execution_count": 50,
      "metadata": {
        "colab": {
          "base_uri": "https://localhost:8080/"
        },
        "id": "v047P9dtU4o-",
        "outputId": "f44446bf-3623-4e1b-d9d7-cacd1ba2b238"
      },
      "outputs": [
        {
          "name": "stdout",
          "output_type": "stream",
          "text": [
            "dict_keys(['name', 'lastname', 'age'])\n"
          ]
        }
      ],
      "source": [
        "keys = person.keys()\n",
        "print(keys)"
      ]
    },
    {
      "cell_type": "code",
      "execution_count": 51,
      "metadata": {
        "colab": {
          "base_uri": "https://localhost:8080/"
        },
        "id": "YuWRtJCqU7TJ",
        "outputId": "24b0b7b3-e1d2-4aa9-c395-851727a515ef"
      },
      "outputs": [
        {
          "name": "stdout",
          "output_type": "stream",
          "text": [
            "dict_values(['John', 'Smith', 30])\n"
          ]
        }
      ],
      "source": [
        "values = person.values()\n",
        "print(values)"
      ]
    },
    {
      "cell_type": "code",
      "execution_count": 52,
      "metadata": {
        "colab": {
          "base_uri": "https://localhost:8080/"
        },
        "id": "uAI09qUSU-Dh",
        "outputId": "7fae3918-9b5a-4cd6-c4bf-618e56c7b630"
      },
      "outputs": [
        {
          "name": "stdout",
          "output_type": "stream",
          "text": [
            "name - John\n",
            "lastname - Smith\n",
            "age - 30\n"
          ]
        }
      ],
      "source": [
        "for key, value in person.items():\n",
        "    print(key, \"-\", value)\n"
      ]
    },
    {
      "cell_type": "markdown",
      "metadata": {
        "id": "Iyi7PIyLVDK9"
      },
      "source": [
        "## Tuples"
      ]
    },
    {
      "cell_type": "code",
      "execution_count": 55,
      "metadata": {
        "colab": {
          "base_uri": "https://localhost:8080/"
        },
        "id": "hGS9Q5-1VFFf",
        "outputId": "e5c4cc44-c7d0-46f4-8a1f-85f395cbe130"
      },
      "outputs": [
        {
          "name": "stdout",
          "output_type": "stream",
          "text": [
            "('APPL', 'GOOG', 'AMZN')\n",
            "<class 'tuple'>\n"
          ]
        }
      ],
      "source": [
        "stocks = ('APPL', 'GOOG', 'AMZN')\n",
        "print(stocks)\n",
        "#stocks.append(\"META\")  # This will throw an error\n",
        "print(type(stocks))"
      ]
    },
    {
      "cell_type": "markdown",
      "metadata": {
        "id": "EVbSYp9tVPLy"
      },
      "source": [
        "## Sets"
      ]
    },
    {
      "cell_type": "code",
      "execution_count": 56,
      "metadata": {
        "colab": {
          "base_uri": "https://localhost:8080/"
        },
        "id": "DFK0HO6NVRYG",
        "outputId": "d4436e7c-7b05-4088-acba-b83b22e8e3e3"
      },
      "outputs": [
        {
          "name": "stdout",
          "output_type": "stream",
          "text": [
            "{'APPL', 'GOOG', 'AMZN'}\n"
          ]
        }
      ],
      "source": [
        "stocks = {'APPL', 'GOOG', 'AMZN'}\n",
        "print(stocks)"
      ]
    },
    {
      "cell_type": "code",
      "execution_count": 57,
      "metadata": {
        "colab": {
          "base_uri": "https://localhost:8080/"
        },
        "id": "mqZGuaw_VWh_",
        "outputId": "445ad432-52fc-4d19-92a0-074cc4d48cfd"
      },
      "outputs": [
        {
          "name": "stdout",
          "output_type": "stream",
          "text": [
            "{'META', 'APPL', 'GOOG', 'AMZN'}\n"
          ]
        }
      ],
      "source": [
        "stocks.add(\"META\")\n",
        "print(stocks)\n"
      ]
    },
    {
      "cell_type": "code",
      "execution_count": 58,
      "metadata": {
        "colab": {
          "base_uri": "https://localhost:8080/"
        },
        "id": "lAmHAERYVZFf",
        "outputId": "8d11f297-c6f3-4275-e002-850826fad9f3"
      },
      "outputs": [
        {
          "name": "stdout",
          "output_type": "stream",
          "text": [
            "{'META', 'APPL', 'GOOG'}\n"
          ]
        }
      ],
      "source": [
        "stocks.remove(\"AMZN\")\n",
        "print(stocks)"
      ]
    },
    {
      "cell_type": "markdown",
      "metadata": {
        "id": "MLOZl-qjVa5k"
      },
      "source": [
        "## Booleans"
      ]
    },
    {
      "cell_type": "code",
      "execution_count": 59,
      "metadata": {
        "colab": {
          "base_uri": "https://localhost:8080/"
        },
        "id": "pthESmcDVcs8",
        "outputId": "098dfc65-8726-47a3-c11d-ca713ece2569"
      },
      "outputs": [
        {
          "name": "stdout",
          "output_type": "stream",
          "text": [
            "True\n",
            "<class 'bool'>\n"
          ]
        }
      ],
      "source": [
        "chihuahua = True\n",
        "print(chihuahua)\n",
        "print(type(chihuahua))"
      ]
    },
    {
      "cell_type": "code",
      "execution_count": 60,
      "metadata": {
        "colab": {
          "base_uri": "https://localhost:8080/"
        },
        "id": "HAVw4hVDVgfs",
        "outputId": "17ab0cce-ab2c-4fbe-e2d1-a41cba5a9d2d"
      },
      "outputs": [
        {
          "name": "stdout",
          "output_type": "stream",
          "text": [
            "False\n",
            "<class 'bool'>\n"
          ]
        }
      ],
      "source": [
        "muffin = False\n",
        "print(muffin)\n",
        "print(type(muffin))"
      ]
    },
    {
      "cell_type": "markdown",
      "metadata": {
        "id": "oJMqpHWkVjws"
      },
      "source": [
        "## None"
      ]
    },
    {
      "cell_type": "code",
      "execution_count": 61,
      "metadata": {
        "colab": {
          "base_uri": "https://localhost:8080/"
        },
        "id": "HKnwwJgEVmHG",
        "outputId": "5371eb60-ee26-4989-d442-eef8fbfc1b96"
      },
      "outputs": [
        {
          "name": "stdout",
          "output_type": "stream",
          "text": [
            "<class 'NoneType'>\n"
          ]
        }
      ],
      "source": [
        "stock = None\n",
        "print(type(stock))"
      ]
    },
    {
      "cell_type": "markdown",
      "metadata": {
        "id": "fVr1pZxAWkXY"
      },
      "source": [
        "## Inputs"
      ]
    },
    {
      "cell_type": "code",
      "execution_count": 72,
      "metadata": {
        "colab": {
          "base_uri": "https://localhost:8080/"
        },
        "id": "v4-cmGqFWl2E",
        "outputId": "eea4b95f-6ac9-48b4-ba9d-9f35acb42059"
      },
      "outputs": [
        {
          "name": "stdout",
          "output_type": "stream",
          "text": [
            "Enter your name: Edgar\n",
            "Edgar\n"
          ]
        }
      ],
      "source": [
        "name = input(\"Enter your name: \")\n",
        "print(name)"
      ]
    },
    {
      "cell_type": "markdown",
      "metadata": {
        "id": "0p6NqUZyVrEo"
      },
      "source": [
        "## Files"
      ]
    },
    {
      "cell_type": "code",
      "execution_count": 69,
      "metadata": {
        "id": "ZOb4xN2OVtbv"
      },
      "outputs": [],
      "source": [
        "# Writing to a file\n",
        "with open(\"book.txt\", \"w\") as f:\n",
        "    f.write(\"En un lugar de la mancha de cuyo nombre no quiero acordarme\")"
      ]
    },
    {
      "cell_type": "code",
      "execution_count": 70,
      "metadata": {
        "colab": {
          "base_uri": "https://localhost:8080/"
        },
        "id": "QT1OIxOxVxu1",
        "outputId": "756f7c75-a159-4bad-87da-4317edabec10"
      },
      "outputs": [
        {
          "name": "stdout",
          "output_type": "stream",
          "text": [
            "En un lugar de la mancha de cuyo nombre no quiero acordarme\n"
          ]
        }
      ],
      "source": [
        "# Reading from a file\n",
        "with open(\"book.txt\", \"r\") as f:\n",
        "    contents = f.read()\n",
        "print(contents)"
      ]
    },
    {
      "cell_type": "code",
      "execution_count": 71,
      "metadata": {
        "colab": {
          "base_uri": "https://localhost:8080/"
        },
        "id": "mjPKQfqVV1Sq",
        "outputId": "313eb020-081b-4205-ae2a-25d2064b2450"
      },
      "outputs": [
        {
          "name": "stdout",
          "output_type": "stream",
          "text": [
            "En un lugar de la mancha de cuyo nombre no quiero acordarme\n",
            "\n",
            " no ha mucho tiempo que vivia un hidalgo\n"
          ]
        }
      ],
      "source": [
        "# Appending to a file\n",
        "with open(\"book.txt\", \"a\") as f:\n",
        "    f.write(\"\\n no ha mucho tiempo que vivia un hidalgo\")\n",
        "\n",
        "# Reading lines from a file\n",
        "with open(\"book.txt\", \"r\") as f:\n",
        "    lines = f.readlines()\n",
        "\n",
        "for line in lines:\n",
        "    print(line)"
      ]
    },
    {
      "cell_type": "markdown",
      "metadata": {
        "id": "oU9FVmFzWLQ8"
      },
      "source": [
        "# Exercise"
      ]
    },
    {
      "cell_type": "markdown",
      "metadata": {
        "id": "8_8WDplCWb1b"
      },
      "source": [
        "Create you first program\n",
        "\n",
        "- Capture input -> stock\n",
        "- print length\n",
        "- Capture input -> name file\n",
        "- Wrtite stock in file\n",
        "- Print file content"
      ]
    },
    {
      "cell_type": "code",
      "execution_count": 75,
      "metadata": {
        "colab": {
          "base_uri": "https://localhost:8080/"
        },
        "id": "v5YnBRpUWq_v",
        "outputId": "890b94bb-7c74-4612-8009-fed0c21e3975"
      },
      "outputs": [
        {
          "name": "stdout",
          "output_type": "stream",
          "text": [
            "Enter a stock: APPLE\n",
            "5\n",
            "Enter a file name: stocks\n",
            "You've written 5 characters to stocks.txt\n"
          ]
        }
      ],
      "source": [
        "stock = input(\"Enter a stock: \")\n",
        "stock_length = len(stock)\n",
        "print(stock_length)\n",
        "# your code....."
      ]
    },
    {
      "cell_type": "markdown",
      "metadata": {
        "id": "ijsUy7mIVBtG"
      },
      "source": [
        "# Notes"
      ]
    },
    {
      "cell_type": "markdown",
      "metadata": {
        "id": "0ziHMxQBXKXj"
      },
      "source": [
        "- Write your notes"
      ]
    }
  ],
  "metadata": {
    "colab": {
      "provenance": []
    },
    "kernelspec": {
      "display_name": "Python 3",
      "name": "python3"
    },
    "language_info": {
      "name": "python"
    }
  },
  "nbformat": 4,
  "nbformat_minor": 0
}
